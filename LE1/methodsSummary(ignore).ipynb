{
 "cells": [
  {
   "cell_type": "markdown",
   "metadata": {},
   "source": [
    "Data Loading"
   ]
  },
  {
   "cell_type": "code",
   "execution_count": null,
   "metadata": {},
   "outputs": [],
   "source": [
    "import numpy as np\n",
    "import pandas as pd\n",
    "import matplotlib.pyplot as plt\n",
    "import seaborn as sns\n",
    "import warnings\n",
    "warnings.filterwarnings('ignore')\n",
    "\n",
    "# Loading the Dataset\n",
    "data = pd.read_csv(\"House_Rent_Dataset.csv\")"
   ]
  },
  {
   "cell_type": "markdown",
   "metadata": {},
   "source": [
    "Exploratory Data Analysis (EDA) and Visualization"
   ]
  },
  {
   "cell_type": "code",
   "execution_count": null,
   "metadata": {},
   "outputs": [],
   "source": [
    "# Distribution of Area Types\n",
    "print('Distribution of Area Types: \\n{}'.format(data['Area Type'].value_counts()))\n",
    "\n",
    "# Visualization of the percentage distribution of Area Types\n",
    "sns.set_style('darkgrid')\n",
    "fig,axes = plt.subplots(figsize=(12,8))\n",
    "ax = sns.countplot(x='Area Type',data=data, palette=['#b644e3', '#6ecc64', '#e3784d'])\n",
    "plt.title('Distribution of Area Type',fontsize=15)\n",
    "\n",
    "# Distribution of Houses per cities\n",
    "print('Distribution of Houses per cities: \\n{}'.format(data['City'].value_counts()))\n",
    "\n",
    "# Visualization of Houses for rent per city\n",
    "sns.set_style('darkgrid')\n",
    "fig,axes = plt.subplots(figsize=(12,8))\n",
    "ax = sns.countplot(x='City',data=data, palette='coolwarm')\n",
    "plt.title('Houses in Cities available for Rent',fontsize=15)\n",
    "\n",
    "# Distribution of Furnishing Status\n",
    "print('Housing Status: \\n{}'.format(data['Furnishing Status'].value_counts()))\n",
    "\n",
    "# Visualization of Housing Status for rent\n",
    "sns.set_style('darkgrid')\n",
    "fig,axes = plt.subplots(figsize=(12,8))\n",
    "ax = sns.countplot(x='Furnishing Status',data=data, palette=['#87ace8', '#6ecc64', '#EAE509'])\n",
    "plt.title('Furnishing Status Distribution for House Renting',fontsize=15)\n",
    "\n",
    "# Distribution of the Preferred Tenant Type for renting\n",
    "print(\"Percentage of Tenancy Types Preferred for rent: \\n{}\".format(data['Tenant Preferred'].value_counts()/len(data['Tenant Preferred'])*100))\n",
    "\n",
    "# Visualization of Tenant Preferred\n",
    "colors = ['#87ace8', '#6ecc64', '#EAE509']\n",
    "plt.figure(figsize = (12, 8)) \n",
    "data['Tenant Preferred'].value_counts().plot.pie(explode=[0.05, 0.05,0.05],textprops={'fontsize': 12}, autopct='%1.2f%%',colors=colors, shadow=True)\n",
    "plt.title('Pie Chart for Tenant Preferred',fontsize=15)\n",
    "\n",
    "# Frequency of Bathrooms available in houses for rent Distribution\n",
    "print('Frequency of Bathrooms available in houses for rent: \\n{}'.format(data['Bathroom'].value_counts()))\n",
    "\n",
    "# Visualization of Bathroom Frequency\n",
    "sns.set_style('darkgrid')\n",
    "fig,axes = plt.subplots(figsize=(12,8))\n",
    "ax = sns.countplot(x='Bathroom',data=data, palette='coolwarm')\n",
    "plt.title('Frequency of Bathrooms available in house for rent:',fontsize=15)\n",
    "\n",
    "# Proportion of Middlemen agents Renters should contact\n",
    "print('Proportion of Middlemen agents Renters should contact:\\n{}'.format(data['Point of Contact'].value_counts()/len(data['Point of Contact'])*100))\n",
    "\n",
    "# Visualization of Point of Contact\n",
    "colors = ['#87ace8','#b644e3', '#EAE509']\n",
    "plt.figure(figsize = (12, 8)) \n",
    "data['Point of Contact'].value_counts().plot.pie(explode=[0.05, 0.05,0.05],textprops={'fontsize': 12}, autopct='%1.2f%%',colors=colors, shadow=True)\n",
    "plt.title('Pie Chart for Area Type',fontsize=15)\n"
   ]
  },
  {
   "cell_type": "markdown",
   "metadata": {},
   "source": [
    "Data Transformation and Model Building"
   ]
  },
  {
   "cell_type": "code",
   "execution_count": null,
   "metadata": {},
   "outputs": [],
   "source": [
    "# Removing irrelevant columns\n",
    "data = data.drop(['Posted On','Area Locality','Floor'], axis=1)\n",
    "\n",
    "# Coding strings into numeric data using dummies\n",
    "housing_data = pd.get_dummies(data, columns=['Area Type', 'City','Furnishing Status','Tenant Preferred', 'Point of Contact'])\n",
    "\n",
    "# Defining the variables for model building\n",
    "x = housing_data.drop(['Rent'], axis=1)\n",
    "y = housing_data['Rent'] \n",
    "\n",
    "# Splitting into test and training dataset\n",
    "from sklearn.model_selection import train_test_split\n",
    "x_train, x_test, y_train, y_test = train_test_split(\n",
    "    x, y, test_size= 0.10, random_state=2\n",
    ")\n",
    "\n",
    "# Using Linear Regression Modelling\n",
    "from sklearn.linear_model import LinearRegression\n",
    "lr = LinearRegression()\n",
    "lr.fit(x_train, y_train)\n",
    "lr_prediction = lr.predict(x_test)\n",
    "score = lr.score(x_test, y_test)\n",
    "print('Test Accuracy:', (score)*100)\n"
   ]
  },
  {
   "cell_type": "markdown",
   "metadata": {},
   "source": [
    "Model Evaluation and Metrics"
   ]
  },
  {
   "cell_type": "code",
   "execution_count": null,
   "metadata": {},
   "outputs": [],
   "source": [
    "y_preds = lr.predict(x_test)\n",
    "from sklearn.metrics import mean_squared_error, r2_score\n",
    "\n",
    "# The coefficients\n",
    "print(\"Coefficients: \\n\", lr.coef_)\n",
    "\n",
    "# The mean squared error\n",
    "print(\"Mean squared error: %.2f\" % mean_squared_error(y_test, y_preds))\n",
    "\n",
    "# The coefficient of determination (R-squared)\n",
    "print(\"Coefficient of determination: %.2f\" % r2_score(y_test, y_preds))\n"
   ]
  },
  {
   "cell_type": "markdown",
   "metadata": {},
   "source": [
    "Preprocessing"
   ]
  },
  {
   "cell_type": "code",
   "execution_count": null,
   "metadata": {},
   "outputs": [],
   "source": [
    "# Data Preprocessing\n",
    "\n",
    "# Converting 'Posted On' columns to DateTime\n",
    "data['Posted On'] = pd.to_datetime(data['Posted On'])\n",
    "\n",
    "# Coding strings into numeric data using dummies\n",
    "housing_data = pd.get_dummies(data, columns=['Area Type', 'City','Furnishing Status','Tenant Preferred', 'Point of Contact'])\n",
    "\n",
    "# Defining the variables for model building\n",
    "x = housing_data.drop(['Rent'], axis=1)\n",
    "y = housing_data['Rent'] \n",
    "\n",
    "# Splitting into test and training dataset\n",
    "from sklearn.model_selection import train_test_split\n",
    "x_train, x_test, y_train, y_test = train_test_split(\n",
    "    x, y, test_size= 0.10, random_state=2\n",
    ")"
   ]
  }
 ],
 "metadata": {
  "language_info": {
   "name": "python"
  },
  "orig_nbformat": 4
 },
 "nbformat": 4,
 "nbformat_minor": 2
}
